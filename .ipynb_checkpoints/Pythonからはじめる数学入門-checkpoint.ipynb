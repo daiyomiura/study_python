{
 "cells": [
  {
   "cell_type": "markdown",
   "metadata": {},
   "source": [
    "# 1章"
   ]
  },
  {
   "cell_type": "code",
   "execution_count": 1,
   "metadata": {},
   "outputs": [
    {
     "data": {
      "text/plain": [
       "1"
      ]
     },
     "execution_count": 1,
     "metadata": {},
     "output_type": "execute_result"
    }
   ],
   "source": [
    "3 // 2"
   ]
  },
  {
   "cell_type": "code",
   "execution_count": 2,
   "metadata": {},
   "outputs": [
    {
     "data": {
      "text/plain": [
       "4"
      ]
     },
     "execution_count": 2,
     "metadata": {},
     "output_type": "execute_result"
    }
   ],
   "source": [
    "2**2"
   ]
  },
  {
   "cell_type": "code",
   "execution_count": 3,
   "metadata": {},
   "outputs": [
    {
     "data": {
      "text/plain": [
       "1024"
      ]
     },
     "execution_count": 3,
     "metadata": {},
     "output_type": "execute_result"
    }
   ],
   "source": [
    "2**10"
   ]
  },
  {
   "cell_type": "code",
   "execution_count": 4,
   "metadata": {},
   "outputs": [
    {
     "data": {
      "text/plain": [
       "1"
      ]
     },
     "execution_count": 4,
     "metadata": {},
     "output_type": "execute_result"
    }
   ],
   "source": [
    "1**10"
   ]
  },
  {
   "cell_type": "code",
   "execution_count": 5,
   "metadata": {},
   "outputs": [
    {
     "data": {
      "text/plain": [
       "2.0"
      ]
     },
     "execution_count": 5,
     "metadata": {},
     "output_type": "execute_result"
    }
   ],
   "source": [
    "8**(1/3)"
   ]
  },
  {
   "cell_type": "code",
   "execution_count": 6,
   "metadata": {},
   "outputs": [
    {
     "data": {
      "text/plain": [
       "int"
      ]
     },
     "execution_count": 6,
     "metadata": {},
     "output_type": "execute_result"
    }
   ],
   "source": [
    "type(3)"
   ]
  },
  {
   "cell_type": "code",
   "execution_count": 7,
   "metadata": {},
   "outputs": [
    {
     "data": {
      "text/plain": [
       "float"
      ]
     },
     "execution_count": 7,
     "metadata": {},
     "output_type": "execute_result"
    }
   ],
   "source": [
    "type(3.5)"
   ]
  },
  {
   "cell_type": "code",
   "execution_count": 8,
   "metadata": {},
   "outputs": [
    {
     "data": {
      "text/plain": [
       "float"
      ]
     },
     "execution_count": 8,
     "metadata": {},
     "output_type": "execute_result"
    }
   ],
   "source": [
    "type(3.0)"
   ]
  },
  {
   "cell_type": "code",
   "execution_count": 9,
   "metadata": {},
   "outputs": [
    {
     "data": {
      "text/plain": [
       "3"
      ]
     },
     "execution_count": 9,
     "metadata": {},
     "output_type": "execute_result"
    }
   ],
   "source": [
    "int(3.8)"
   ]
  },
  {
   "cell_type": "code",
   "execution_count": 10,
   "metadata": {},
   "outputs": [
    {
     "data": {
      "text/plain": [
       "3.0"
      ]
     },
     "execution_count": 10,
     "metadata": {},
     "output_type": "execute_result"
    }
   ],
   "source": [
    "float(3)"
   ]
  },
  {
   "cell_type": "code",
   "execution_count": 30,
   "metadata": {},
   "outputs": [],
   "source": [
    "from fractions import Fraction"
   ]
  },
  {
   "cell_type": "code",
   "execution_count": 12,
   "metadata": {},
   "outputs": [],
   "source": [
    "f = Fraction(3, 4)"
   ]
  },
  {
   "cell_type": "code",
   "execution_count": 13,
   "metadata": {},
   "outputs": [
    {
     "data": {
      "text/plain": [
       "Fraction(3, 4)"
      ]
     },
     "execution_count": 13,
     "metadata": {},
     "output_type": "execute_result"
    }
   ],
   "source": [
    "f"
   ]
  },
  {
   "cell_type": "code",
   "execution_count": 14,
   "metadata": {},
   "outputs": [
    {
     "data": {
      "text/plain": [
       "3.25"
      ]
     },
     "execution_count": 14,
     "metadata": {},
     "output_type": "execute_result"
    }
   ],
   "source": [
    "f + 1 + 1.5"
   ]
  },
  {
   "cell_type": "code",
   "execution_count": 16,
   "metadata": {},
   "outputs": [
    {
     "data": {
      "text/plain": [
       "Fraction(2, 1)"
      ]
     },
     "execution_count": 16,
     "metadata": {},
     "output_type": "execute_result"
    }
   ],
   "source": [
    "Fraction(3, 4) + 1 + Fraction(1/4)"
   ]
  },
  {
   "cell_type": "markdown",
   "metadata": {},
   "source": [
    "## 複素数"
   ]
  },
  {
   "cell_type": "code",
   "execution_count": 18,
   "metadata": {},
   "outputs": [],
   "source": [
    "a = 2 + 3j"
   ]
  },
  {
   "cell_type": "code",
   "execution_count": 19,
   "metadata": {},
   "outputs": [
    {
     "data": {
      "text/plain": [
       "complex"
      ]
     },
     "execution_count": 19,
     "metadata": {},
     "output_type": "execute_result"
    }
   ],
   "source": [
    "type(a)"
   ]
  },
  {
   "cell_type": "code",
   "execution_count": 3,
   "metadata": {},
   "outputs": [],
   "source": [
    "a = complex(2, 3)"
   ]
  },
  {
   "cell_type": "code",
   "execution_count": 4,
   "metadata": {},
   "outputs": [
    {
     "data": {
      "text/plain": [
       "(2+3j)"
      ]
     },
     "execution_count": 4,
     "metadata": {},
     "output_type": "execute_result"
    }
   ],
   "source": [
    "a"
   ]
  },
  {
   "cell_type": "code",
   "execution_count": 5,
   "metadata": {},
   "outputs": [],
   "source": [
    "b = 3 + 3j"
   ]
  },
  {
   "cell_type": "code",
   "execution_count": 6,
   "metadata": {},
   "outputs": [
    {
     "data": {
      "text/plain": [
       "(5+6j)"
      ]
     },
     "execution_count": 6,
     "metadata": {},
     "output_type": "execute_result"
    }
   ],
   "source": [
    "a + b"
   ]
  },
  {
   "cell_type": "code",
   "execution_count": 7,
   "metadata": {},
   "outputs": [
    {
     "data": {
      "text/plain": [
       "(-1+0j)"
      ]
     },
     "execution_count": 7,
     "metadata": {},
     "output_type": "execute_result"
    }
   ],
   "source": [
    "a - b"
   ]
  },
  {
   "cell_type": "code",
   "execution_count": 8,
   "metadata": {},
   "outputs": [
    {
     "data": {
      "text/plain": [
       "(-3+15j)"
      ]
     },
     "execution_count": 8,
     "metadata": {},
     "output_type": "execute_result"
    }
   ],
   "source": [
    "a * b"
   ]
  },
  {
   "cell_type": "code",
   "execution_count": 9,
   "metadata": {},
   "outputs": [
    {
     "data": {
      "text/plain": [
       "(0.8333333333333334+0.16666666666666666j)"
      ]
     },
     "execution_count": 9,
     "metadata": {},
     "output_type": "execute_result"
    }
   ],
   "source": [
    "a / b"
   ]
  },
  {
   "cell_type": "code",
   "execution_count": 10,
   "metadata": {},
   "outputs": [],
   "source": [
    "z = 2 + 3j"
   ]
  },
  {
   "cell_type": "code",
   "execution_count": 11,
   "metadata": {},
   "outputs": [
    {
     "data": {
      "text/plain": [
       "2.0"
      ]
     },
     "execution_count": 11,
     "metadata": {},
     "output_type": "execute_result"
    }
   ],
   "source": [
    "z.real"
   ]
  },
  {
   "cell_type": "code",
   "execution_count": 12,
   "metadata": {},
   "outputs": [
    {
     "data": {
      "text/plain": [
       "3.0"
      ]
     },
     "execution_count": 12,
     "metadata": {},
     "output_type": "execute_result"
    }
   ],
   "source": [
    "z.imag"
   ]
  },
  {
   "cell_type": "markdown",
   "metadata": {},
   "source": [
    "### 共役"
   ]
  },
  {
   "cell_type": "code",
   "execution_count": 14,
   "metadata": {},
   "outputs": [
    {
     "data": {
      "text/plain": [
       "(2-3j)"
      ]
     },
     "execution_count": 14,
     "metadata": {},
     "output_type": "execute_result"
    }
   ],
   "source": [
    "z.conjugate()"
   ]
  },
  {
   "cell_type": "code",
   "execution_count": 15,
   "metadata": {},
   "outputs": [
    {
     "data": {
      "text/plain": [
       "3.605551275463989"
      ]
     },
     "execution_count": 15,
     "metadata": {},
     "output_type": "execute_result"
    }
   ],
   "source": [
    "(z.real**2 + z.imag**2) ** 0.5"
   ]
  },
  {
   "cell_type": "code",
   "execution_count": 16,
   "metadata": {},
   "outputs": [
    {
     "data": {
      "text/plain": [
       "3.605551275463989"
      ]
     },
     "execution_count": 16,
     "metadata": {},
     "output_type": "execute_result"
    }
   ],
   "source": [
    "abs(z)"
   ]
  },
  {
   "cell_type": "code",
   "execution_count": 17,
   "metadata": {},
   "outputs": [
    {
     "name": "stdout",
     "output_type": "stream",
     "text": [
      "1\n"
     ]
    }
   ],
   "source": [
    "a = input()"
   ]
  },
  {
   "cell_type": "code",
   "execution_count": 18,
   "metadata": {},
   "outputs": [],
   "source": [
    "s1 = 'a string'"
   ]
  },
  {
   "cell_type": "code",
   "execution_count": 19,
   "metadata": {},
   "outputs": [],
   "source": [
    "s2 = \"a string\""
   ]
  },
  {
   "cell_type": "code",
   "execution_count": 20,
   "metadata": {},
   "outputs": [],
   "source": [
    "a = '1'"
   ]
  },
  {
   "cell_type": "code",
   "execution_count": 22,
   "metadata": {},
   "outputs": [
    {
     "data": {
      "text/plain": [
       "2"
      ]
     },
     "execution_count": 22,
     "metadata": {},
     "output_type": "execute_result"
    }
   ],
   "source": [
    "int(a) + 1"
   ]
  },
  {
   "cell_type": "code",
   "execution_count": 23,
   "metadata": {},
   "outputs": [
    {
     "data": {
      "text/plain": [
       "2.0"
      ]
     },
     "execution_count": 23,
     "metadata": {},
     "output_type": "execute_result"
    }
   ],
   "source": [
    "float(a) + 1"
   ]
  },
  {
   "cell_type": "code",
   "execution_count": 24,
   "metadata": {},
   "outputs": [
    {
     "ename": "ValueError",
     "evalue": "invalid literal for int() with base 10: '2.0'",
     "output_type": "error",
     "traceback": [
      "\u001b[0;31m---------------------------------------------------------------------------\u001b[0m",
      "\u001b[0;31mValueError\u001b[0m                                Traceback (most recent call last)",
      "\u001b[0;32m<ipython-input-24-27ade5403981>\u001b[0m in \u001b[0;36m<module>\u001b[0;34m()\u001b[0m\n\u001b[0;32m----> 1\u001b[0;31m \u001b[0mint\u001b[0m\u001b[0;34m(\u001b[0m\u001b[0;34m'2.0'\u001b[0m\u001b[0;34m)\u001b[0m\u001b[0;34m\u001b[0m\u001b[0m\n\u001b[0m",
      "\u001b[0;31mValueError\u001b[0m: invalid literal for int() with base 10: '2.0'"
     ]
    }
   ],
   "source": [
    "int('2.0')"
   ]
  },
  {
   "cell_type": "code",
   "execution_count": 25,
   "metadata": {},
   "outputs": [
    {
     "name": "stdout",
     "output_type": "stream",
     "text": [
      "3/4\n"
     ]
    },
    {
     "ename": "ValueError",
     "evalue": "could not convert string to float: '3/4'",
     "output_type": "error",
     "traceback": [
      "\u001b[0;31m---------------------------------------------------------------------------\u001b[0m",
      "\u001b[0;31mValueError\u001b[0m                                Traceback (most recent call last)",
      "\u001b[0;32m<ipython-input-25-b11bdfbdb0ef>\u001b[0m in \u001b[0;36m<module>\u001b[0;34m()\u001b[0m\n\u001b[0;32m----> 1\u001b[0;31m \u001b[0ma\u001b[0m \u001b[0;34m=\u001b[0m \u001b[0mfloat\u001b[0m\u001b[0;34m(\u001b[0m\u001b[0minput\u001b[0m\u001b[0;34m(\u001b[0m\u001b[0;34m)\u001b[0m\u001b[0;34m)\u001b[0m\u001b[0;34m\u001b[0m\u001b[0m\n\u001b[0m",
      "\u001b[0;31mValueError\u001b[0m: could not convert string to float: '3/4'"
     ]
    }
   ],
   "source": [
    "a = float(input())"
   ]
  },
  {
   "cell_type": "markdown",
   "metadata": {},
   "source": [
    "### 例外と不当入力の処理"
   ]
  },
  {
   "cell_type": "code",
   "execution_count": 26,
   "metadata": {},
   "outputs": [
    {
     "name": "stdout",
     "output_type": "stream",
     "text": [
      "Enter a number: 3/4\n",
      "You entered an invalid number\n"
     ]
    }
   ],
   "source": [
    "try:\n",
    "    a = float(input('Enter a number: '))\n",
    "except ValueError:\n",
    "    print('You entered an invalid number')"
   ]
  },
  {
   "cell_type": "code",
   "execution_count": 27,
   "metadata": {},
   "outputs": [
    {
     "data": {
      "text/plain": [
       "False"
      ]
     },
     "execution_count": 27,
     "metadata": {},
     "output_type": "execute_result"
    }
   ],
   "source": [
    "1.1.is_integer()"
   ]
  },
  {
   "cell_type": "code",
   "execution_count": 28,
   "metadata": {},
   "outputs": [
    {
     "data": {
      "text/plain": [
       "True"
      ]
     },
     "execution_count": 28,
     "metadata": {},
     "output_type": "execute_result"
    }
   ],
   "source": [
    "1.0.is_integer()"
   ]
  },
  {
   "cell_type": "markdown",
   "metadata": {},
   "source": [
    "### 分数と複素数の入力   "
   ]
  },
  {
   "cell_type": "code",
   "execution_count": 31,
   "metadata": {},
   "outputs": [
    {
     "name": "stdout",
     "output_type": "stream",
     "text": [
      "Enter a fraction: 3/4\n"
     ]
    }
   ],
   "source": [
    "a = Fraction(input('Enter a fraction: '))"
   ]
  },
  {
   "cell_type": "code",
   "execution_count": 32,
   "metadata": {},
   "outputs": [
    {
     "data": {
      "text/plain": [
       "Fraction(3, 4)"
      ]
     },
     "execution_count": 32,
     "metadata": {},
     "output_type": "execute_result"
    }
   ],
   "source": [
    "a"
   ]
  },
  {
   "cell_type": "code",
   "execution_count": 33,
   "metadata": {},
   "outputs": [
    {
     "name": "stdout",
     "output_type": "stream",
     "text": [
      "Enter a fraction: 3/0\n"
     ]
    },
    {
     "ename": "ZeroDivisionError",
     "evalue": "Fraction(3, 0)",
     "output_type": "error",
     "traceback": [
      "\u001b[0;31m---------------------------------------------------------------------------\u001b[0m",
      "\u001b[0;31mZeroDivisionError\u001b[0m                         Traceback (most recent call last)",
      "\u001b[0;32m<ipython-input-33-3d1d35c36c4e>\u001b[0m in \u001b[0;36m<module>\u001b[0;34m()\u001b[0m\n\u001b[0;32m----> 1\u001b[0;31m \u001b[0ma\u001b[0m \u001b[0;34m=\u001b[0m \u001b[0mFraction\u001b[0m\u001b[0;34m(\u001b[0m\u001b[0minput\u001b[0m\u001b[0;34m(\u001b[0m\u001b[0;34m'Enter a fraction: '\u001b[0m\u001b[0;34m)\u001b[0m\u001b[0;34m)\u001b[0m\u001b[0;34m\u001b[0m\u001b[0m\n\u001b[0m",
      "\u001b[0;32m/usr/local/Cellar/python3/3.6.4_2/Frameworks/Python.framework/Versions/3.6/lib/python3.6/fractions.py\u001b[0m in \u001b[0;36m__new__\u001b[0;34m(cls, numerator, denominator, _normalize)\u001b[0m\n\u001b[1;32m    176\u001b[0m \u001b[0;34m\u001b[0m\u001b[0m\n\u001b[1;32m    177\u001b[0m         \u001b[0;32mif\u001b[0m \u001b[0mdenominator\u001b[0m \u001b[0;34m==\u001b[0m \u001b[0;36m0\u001b[0m\u001b[0;34m:\u001b[0m\u001b[0;34m\u001b[0m\u001b[0m\n\u001b[0;32m--> 178\u001b[0;31m             \u001b[0;32mraise\u001b[0m \u001b[0mZeroDivisionError\u001b[0m\u001b[0;34m(\u001b[0m\u001b[0;34m'Fraction(%s, 0)'\u001b[0m \u001b[0;34m%\u001b[0m \u001b[0mnumerator\u001b[0m\u001b[0;34m)\u001b[0m\u001b[0;34m\u001b[0m\u001b[0m\n\u001b[0m\u001b[1;32m    179\u001b[0m         \u001b[0;32mif\u001b[0m \u001b[0m_normalize\u001b[0m\u001b[0;34m:\u001b[0m\u001b[0;34m\u001b[0m\u001b[0m\n\u001b[1;32m    180\u001b[0m             \u001b[0;32mif\u001b[0m \u001b[0mtype\u001b[0m\u001b[0;34m(\u001b[0m\u001b[0mnumerator\u001b[0m\u001b[0;34m)\u001b[0m \u001b[0;32mis\u001b[0m \u001b[0mint\u001b[0m \u001b[0;32mis\u001b[0m \u001b[0mtype\u001b[0m\u001b[0;34m(\u001b[0m\u001b[0mdenominator\u001b[0m\u001b[0;34m)\u001b[0m\u001b[0;34m:\u001b[0m\u001b[0;34m\u001b[0m\u001b[0m\n",
      "\u001b[0;31mZeroDivisionError\u001b[0m: Fraction(3, 0)"
     ]
    }
   ],
   "source": [
    "a = Fraction(input('Enter a fraction: '))"
   ]
  },
  {
   "cell_type": "code",
   "execution_count": 34,
   "metadata": {},
   "outputs": [
    {
     "name": "stdout",
     "output_type": "stream",
     "text": [
      "Enter a fraction: 3/0\n",
      "Invalid Fraction\n"
     ]
    }
   ],
   "source": [
    "try:\n",
    "    a = Fraction(input('Enter a fraction: '))\n",
    "except ZeroDivisionError:\n",
    "    print('Invalid Fraction')"
   ]
  },
  {
   "cell_type": "code",
   "execution_count": 35,
   "metadata": {},
   "outputs": [
    {
     "name": "stdout",
     "output_type": "stream",
     "text": [
      "Enter a complex number: 2+3j\n"
     ]
    }
   ],
   "source": [
    "z = complex(input('Enter a complex number: '))"
   ]
  },
  {
   "cell_type": "code",
   "execution_count": 36,
   "metadata": {},
   "outputs": [
    {
     "data": {
      "text/plain": [
       "(2+3j)"
      ]
     },
     "execution_count": 36,
     "metadata": {},
     "output_type": "execute_result"
    }
   ],
   "source": [
    "z"
   ]
  },
  {
   "cell_type": "code",
   "execution_count": 37,
   "metadata": {},
   "outputs": [
    {
     "name": "stdout",
     "output_type": "stream",
     "text": [
      "Enter a complex number: 2 + j\n"
     ]
    },
    {
     "ename": "ValueError",
     "evalue": "complex() arg is a malformed string",
     "output_type": "error",
     "traceback": [
      "\u001b[0;31m---------------------------------------------------------------------------\u001b[0m",
      "\u001b[0;31mValueError\u001b[0m                                Traceback (most recent call last)",
      "\u001b[0;32m<ipython-input-37-7d52b2c8bbbf>\u001b[0m in \u001b[0;36m<module>\u001b[0;34m()\u001b[0m\n\u001b[0;32m----> 1\u001b[0;31m \u001b[0mz\u001b[0m \u001b[0;34m=\u001b[0m \u001b[0mcomplex\u001b[0m\u001b[0;34m(\u001b[0m\u001b[0minput\u001b[0m\u001b[0;34m(\u001b[0m\u001b[0;34m'Enter a complex number: '\u001b[0m\u001b[0;34m)\u001b[0m\u001b[0;34m)\u001b[0m\u001b[0;34m\u001b[0m\u001b[0m\n\u001b[0m",
      "\u001b[0;31mValueError\u001b[0m: complex() arg is a malformed string"
     ]
    }
   ],
   "source": [
    "z = complex(input('Enter a complex number: '))"
   ]
  },
  {
   "cell_type": "code",
   "execution_count": 38,
   "metadata": {},
   "outputs": [],
   "source": [
    "def is_factor(a, b):\n",
    "    if b % a == 0:\n",
    "        return True\n",
    "    else:\n",
    "        return False"
   ]
  },
  {
   "cell_type": "code",
   "execution_count": 39,
   "metadata": {},
   "outputs": [
    {
     "data": {
      "text/plain": [
       "True"
      ]
     },
     "execution_count": 39,
     "metadata": {},
     "output_type": "execute_result"
    }
   ],
   "source": [
    "is_factor(4, 1024)"
   ]
  },
  {
   "cell_type": "code",
   "execution_count": 40,
   "metadata": {},
   "outputs": [
    {
     "name": "stdout",
     "output_type": "stream",
     "text": [
      "1\n",
      "2\n",
      "3\n"
     ]
    }
   ],
   "source": [
    "for i in range(1, 4):\n",
    "    print(i)"
   ]
  },
  {
   "cell_type": "code",
   "execution_count": 41,
   "metadata": {},
   "outputs": [
    {
     "name": "stdout",
     "output_type": "stream",
     "text": [
      "0\n",
      "1\n",
      "2\n",
      "3\n",
      "4\n"
     ]
    }
   ],
   "source": [
    "for i in range(5):\n",
    "    print(i)"
   ]
  },
  {
   "cell_type": "code",
   "execution_count": 42,
   "metadata": {},
   "outputs": [
    {
     "name": "stdout",
     "output_type": "stream",
     "text": [
      "1\n",
      "3\n",
      "5\n",
      "7\n",
      "9\n"
     ]
    }
   ],
   "source": [
    "for i in range(1, 10, 2):\n",
    "    print(i)"
   ]
  },
  {
   "cell_type": "code",
   "execution_count": 44,
   "metadata": {},
   "outputs": [
    {
     "name": "stdout",
     "output_type": "stream",
     "text": [
      "Your Number Please: 15.5\n",
      "Please enter a positive integer\n"
     ]
    }
   ],
   "source": [
    "'''\n",
    "整数の因数を見つける\n",
    "'''\n",
    "def factors(b):\n",
    "    for i in range(1, b+1):\n",
    "        if b % i == 0:\n",
    "            print(i)\n",
    "\n",
    "if __name__ == '__main__':\n",
    "    b = input('Your Number Please: ')\n",
    "    b = float(b)\n",
    "    \n",
    "    if b>0 and b.is_integer():\n",
    "        factors(int(b))\n",
    "    else:\n",
    "        print('Please enter a positive integer')"
   ]
  },
  {
   "cell_type": "code",
   "execution_count": 45,
   "metadata": {},
   "outputs": [
    {
     "name": "stdout",
     "output_type": "stream",
     "text": [
      "At the grocery store, I bought some apples and bananas and grapes\n"
     ]
    }
   ],
   "source": [
    "items1 = \"apples\"\n",
    "items2 = \"bananas\"\n",
    "items3 = \"grapes\"\n",
    "print(\"At the grocery store, I bought some {0} and {1} and {2}\".format(items1, items2, items3))"
   ]
  },
  {
   "cell_type": "markdown",
   "metadata": {},
   "source": [
    "## 1.5 数学を行うプログラムを書く"
   ]
  },
  {
   "cell_type": "code",
   "execution_count": 1,
   "metadata": {},
   "outputs": [],
   "source": [
    "def is_factor(a, b):\n",
    "    if b % a == 0:\n",
    "        return True\n",
    "    else:\n",
    "        return False"
   ]
  },
  {
   "cell_type": "code",
   "execution_count": 2,
   "metadata": {},
   "outputs": [
    {
     "data": {
      "text/plain": [
       "True"
      ]
     },
     "execution_count": 2,
     "metadata": {},
     "output_type": "execute_result"
    }
   ],
   "source": [
    "is_factor(4, 1024)"
   ]
  },
  {
   "cell_type": "code",
   "execution_count": 3,
   "metadata": {},
   "outputs": [
    {
     "name": "stdout",
     "output_type": "stream",
     "text": [
      "Number 1: 1 Number 2: 3.578\n"
     ]
    }
   ],
   "source": [
    "print('Number 1: {0} Number 2: {1}'.format(1, 3.578))"
   ]
  },
  {
   "cell_type": "code",
   "execution_count": 8,
   "metadata": {},
   "outputs": [
    {
     "name": "stdout",
     "output_type": "stream",
     "text": [
      "Enter a number: 3.14\n",
      "3.14 × 1 = 3.14\n",
      "3.14 × 2 = 6.28\n",
      "3.14 × 3 = 9.42\n",
      "3.14 × 4 = 12.56\n",
      "3.14 × 5 = 15.700000000000001\n",
      "3.14 × 6 = 18.84\n",
      "3.14 × 7 = 21.98\n",
      "3.14 × 8 = 25.12\n",
      "3.14 × 9 = 28.26\n",
      "3.14 × 10 = 31.400000000000002\n"
     ]
    }
   ],
   "source": [
    "'''\n",
    "乗算表生成器\n",
    "'''\n",
    "def multi_table(a):\n",
    "    for i in range(1, 11):\n",
    "        print('{0} × {1} = {2}'.format(a, i, a*i))\n",
    "        \n",
    "if __name__ == '__main__':\n",
    "    a = input('Enter a number: ')\n",
    "    multi_table(float(a))"
   ]
  },
  {
   "cell_type": "markdown",
   "metadata": {},
   "source": [
    "### 1.5.3 測定単位を変換する"
   ]
  },
  {
   "cell_type": "code",
   "execution_count": 9,
   "metadata": {},
   "outputs": [
    {
     "data": {
      "text/plain": [
       "0.6476999999999999"
      ]
     },
     "execution_count": 9,
     "metadata": {},
     "output_type": "execute_result"
    }
   ],
   "source": [
    "(25.5 * 2.54) / 100"
   ]
  },
  {
   "cell_type": "code",
   "execution_count": 10,
   "metadata": {},
   "outputs": [
    {
     "data": {
      "text/plain": [
       "1045.85"
      ]
     },
     "execution_count": 10,
     "metadata": {},
     "output_type": "execute_result"
    }
   ],
   "source": [
    "650 * 1.609"
   ]
  },
  {
   "cell_type": "code",
   "execution_count": 13,
   "metadata": {},
   "outputs": [],
   "source": [
    "F = 98.6"
   ]
  },
  {
   "cell_type": "code",
   "execution_count": 14,
   "metadata": {},
   "outputs": [
    {
     "data": {
      "text/plain": [
       "37.0"
      ]
     },
     "execution_count": 14,
     "metadata": {},
     "output_type": "execute_result"
    }
   ],
   "source": [
    "(F - 32) * (5 / 9)"
   ]
  },
  {
   "cell_type": "code",
   "execution_count": 15,
   "metadata": {},
   "outputs": [],
   "source": [
    "C = 37"
   ]
  },
  {
   "cell_type": "code",
   "execution_count": 16,
   "metadata": {},
   "outputs": [
    {
     "data": {
      "text/plain": [
       "98.60000000000001"
      ]
     },
     "execution_count": 16,
     "metadata": {},
     "output_type": "execute_result"
    }
   ],
   "source": [
    "C * (9 / 5) + 32"
   ]
  },
  {
   "cell_type": "markdown",
   "metadata": {},
   "source": [
    "### 1.5.4 2次方程式の解を求める"
   ]
  },
  {
   "cell_type": "code",
   "execution_count": 6,
   "metadata": {},
   "outputs": [],
   "source": [
    "x = 10 - 500 + 79"
   ]
  },
  {
   "cell_type": "code",
   "execution_count": 7,
   "metadata": {},
   "outputs": [
    {
     "data": {
      "text/plain": [
       "-411"
      ]
     },
     "execution_count": 7,
     "metadata": {},
     "output_type": "execute_result"
    }
   ],
   "source": [
    "x"
   ]
  },
  {
   "cell_type": "code",
   "execution_count": 29,
   "metadata": {},
   "outputs": [],
   "source": [
    "a = 1\n",
    "b = 2\n",
    "c = 1"
   ]
  },
  {
   "cell_type": "code",
   "execution_count": 30,
   "metadata": {},
   "outputs": [],
   "source": [
    "D = (b**2 - 4*a*c)**0.5"
   ]
  },
  {
   "cell_type": "code",
   "execution_count": 31,
   "metadata": {},
   "outputs": [],
   "source": [
    "x_1 = (-b + D)/(2*a)"
   ]
  },
  {
   "cell_type": "code",
   "execution_count": 32,
   "metadata": {},
   "outputs": [
    {
     "data": {
      "text/plain": [
       "-1.0"
      ]
     },
     "execution_count": 32,
     "metadata": {},
     "output_type": "execute_result"
    }
   ],
   "source": [
    "x_1"
   ]
  },
  {
   "cell_type": "code",
   "execution_count": 16,
   "metadata": {},
   "outputs": [],
   "source": [
    "x_2 = (-b - D)/(2*a)"
   ]
  },
  {
   "cell_type": "code",
   "execution_count": 17,
   "metadata": {},
   "outputs": [
    {
     "data": {
      "text/plain": [
       "-1.0"
      ]
     },
     "execution_count": 17,
     "metadata": {},
     "output_type": "execute_result"
    }
   ],
   "source": [
    "x_2"
   ]
  },
  {
   "cell_type": "code",
   "execution_count": 26,
   "metadata": {},
   "outputs": [
    {
     "name": "stdout",
     "output_type": "stream",
     "text": [
      "aを入力: 1\n",
      "bを入力: 1\n",
      "cを入力: 1\n",
      "x1=(-0.49999999999999994+0.8660254037844386j)\n",
      "x2=(-0.5-0.8660254037844386j)\n"
     ]
    }
   ],
   "source": [
    "'''\n",
    "2次方程式電卓\n",
    "'''\n",
    "def roots(a, b, c):\n",
    "    D = (b**2 - 4*a*c)**0.5\n",
    "    x_1 = (-b + D)/(2*a)\n",
    "    x_2 = (-b - D)/(2*a)\n",
    "    print('x1={0}'.format(x_1))\n",
    "    print('x2={0}'.format(x_2))\n",
    "    \n",
    "if __name__ == '__main__':\n",
    "    a = input('aを入力: ')\n",
    "    b = input('bを入力: ')\n",
    "    c = input('cを入力: ')\n",
    "    roots(float(a), float(b), float(c))"
   ]
  },
  {
   "cell_type": "markdown",
   "metadata": {},
   "source": [
    "# 2章 データをグラフで可視化する"
   ]
  },
  {
   "cell_type": "markdown",
   "metadata": {},
   "source": [
    "## 2.1 デカルト座標平面を理解する"
   ]
  },
  {
   "cell_type": "markdown",
   "metadata": {},
   "source": [
    "## 2.2 リストとタプルの操作"
   ]
  },
  {
   "cell_type": "code",
   "execution_count": 33,
   "metadata": {},
   "outputs": [],
   "source": [
    "simplelist = [1, 2, 3]"
   ]
  },
  {
   "cell_type": "code",
   "execution_count": 34,
   "metadata": {},
   "outputs": [
    {
     "data": {
      "text/plain": [
       "1"
      ]
     },
     "execution_count": 34,
     "metadata": {},
     "output_type": "execute_result"
    }
   ],
   "source": [
    "simplelist[0]"
   ]
  },
  {
   "cell_type": "code",
   "execution_count": 35,
   "metadata": {},
   "outputs": [
    {
     "data": {
      "text/plain": [
       "2"
      ]
     },
     "execution_count": 35,
     "metadata": {},
     "output_type": "execute_result"
    }
   ],
   "source": [
    "simplelist[1]"
   ]
  },
  {
   "cell_type": "code",
   "execution_count": 36,
   "metadata": {},
   "outputs": [
    {
     "data": {
      "text/plain": [
       "3"
      ]
     },
     "execution_count": 36,
     "metadata": {},
     "output_type": "execute_result"
    }
   ],
   "source": [
    "simplelist[2]"
   ]
  },
  {
   "cell_type": "code",
   "execution_count": 37,
   "metadata": {},
   "outputs": [],
   "source": [
    "stringlist = ['a string', 'b string', 'c string']"
   ]
  },
  {
   "cell_type": "code",
   "execution_count": 38,
   "metadata": {},
   "outputs": [
    {
     "data": {
      "text/plain": [
       "'a string'"
      ]
     },
     "execution_count": 38,
     "metadata": {},
     "output_type": "execute_result"
    }
   ],
   "source": [
    "stringlist[0]"
   ]
  },
  {
   "cell_type": "code",
   "execution_count": 39,
   "metadata": {},
   "outputs": [
    {
     "data": {
      "text/plain": [
       "'b string'"
      ]
     },
     "execution_count": 39,
     "metadata": {},
     "output_type": "execute_result"
    }
   ],
   "source": [
    "stringlist[1]"
   ]
  },
  {
   "cell_type": "code",
   "execution_count": 40,
   "metadata": {},
   "outputs": [
    {
     "data": {
      "text/plain": [
       "'c string'"
      ]
     },
     "execution_count": 40,
     "metadata": {},
     "output_type": "execute_result"
    }
   ],
   "source": [
    "stringlist[2]"
   ]
  },
  {
   "cell_type": "code",
   "execution_count": 41,
   "metadata": {},
   "outputs": [],
   "source": [
    "emptylist = []"
   ]
  },
  {
   "cell_type": "code",
   "execution_count": 42,
   "metadata": {},
   "outputs": [],
   "source": [
    "emptylist.append(1)"
   ]
  },
  {
   "cell_type": "code",
   "execution_count": 43,
   "metadata": {},
   "outputs": [],
   "source": [
    "emptylist.append(2)"
   ]
  },
  {
   "cell_type": "code",
   "execution_count": 44,
   "metadata": {},
   "outputs": [
    {
     "data": {
      "text/plain": [
       "[1, 2]"
      ]
     },
     "execution_count": 44,
     "metadata": {},
     "output_type": "execute_result"
    }
   ],
   "source": [
    "emptylist"
   ]
  },
  {
   "cell_type": "code",
   "execution_count": 45,
   "metadata": {},
   "outputs": [],
   "source": [
    "simpletuple = (1, 2, 3)"
   ]
  },
  {
   "cell_type": "code",
   "execution_count": 46,
   "metadata": {},
   "outputs": [
    {
     "data": {
      "text/plain": [
       "1"
      ]
     },
     "execution_count": 46,
     "metadata": {},
     "output_type": "execute_result"
    }
   ],
   "source": [
    "simpletuple[0]"
   ]
  },
  {
   "cell_type": "code",
   "execution_count": 47,
   "metadata": {},
   "outputs": [
    {
     "data": {
      "text/plain": [
       "2"
      ]
     },
     "execution_count": 47,
     "metadata": {},
     "output_type": "execute_result"
    }
   ],
   "source": [
    "simpletuple[1]"
   ]
  },
  {
   "cell_type": "code",
   "execution_count": 48,
   "metadata": {},
   "outputs": [
    {
     "data": {
      "text/plain": [
       "3"
      ]
     },
     "execution_count": 48,
     "metadata": {},
     "output_type": "execute_result"
    }
   ],
   "source": [
    "simpletuple[2]"
   ]
  },
  {
   "cell_type": "code",
   "execution_count": 49,
   "metadata": {},
   "outputs": [
    {
     "data": {
      "text/plain": [
       "3"
      ]
     },
     "execution_count": 49,
     "metadata": {},
     "output_type": "execute_result"
    }
   ],
   "source": [
    "simplelist[-1]"
   ]
  },
  {
   "cell_type": "markdown",
   "metadata": {},
   "source": [
    "### 2.2.1 リストやタプルで繰り返す"
   ]
  },
  {
   "cell_type": "code",
   "execution_count": 50,
   "metadata": {},
   "outputs": [
    {
     "name": "stdout",
     "output_type": "stream",
     "text": [
      "1\n",
      "2\n",
      "3\n"
     ]
    }
   ],
   "source": [
    "list = [1, 2, 3]\n",
    "for item in list:\n",
    "    print(item)"
   ]
  },
  {
   "cell_type": "code",
   "execution_count": 51,
   "metadata": {},
   "outputs": [
    {
     "name": "stdout",
     "output_type": "stream",
     "text": [
      "0 1\n",
      "1 2\n",
      "2 3\n"
     ]
    }
   ],
   "source": [
    "for index, item in enumerate(list):\n",
    "    print(index, item)"
   ]
  },
  {
   "cell_type": "markdown",
   "metadata": {},
   "source": [
    "### 2.3. matplotlibでグラフを作る"
   ]
  },
  {
   "cell_type": "code",
   "execution_count": 52,
   "metadata": {},
   "outputs": [],
   "source": [
    "x_numbers = [1,2,3]\n",
    "y_numbers = [2,4,6]"
   ]
  },
  {
   "cell_type": "code",
   "execution_count": 53,
   "metadata": {},
   "outputs": [],
   "source": [
    "from pylab import plot, show"
   ]
  },
  {
   "cell_type": "code",
   "execution_count": 54,
   "metadata": {},
   "outputs": [
    {
     "data": {
      "text/plain": [
       "[<matplotlib.lines.Line2D at 0x109d70b00>]"
      ]
     },
     "execution_count": 54,
     "metadata": {},
     "output_type": "execute_result"
    },
    {
     "data": {
      "image/png": "[encoded data removed]",
      "text/plain": [
       "<matplotlib.figure.Figure at 0x1096166d8>"
      ]
     },
     "metadata": {},
     "output_type": "display_data"
    }
   ],
   "source": [
    "plot(x_numbers, y_numbers)"
   ]
  },
  {
   "cell_type": "markdown",
   "metadata": {},
   "source": [
    "### 2.3.1 グラフで点を作る"
   ]
  },
  {
   "cell_type": "code",
   "execution_count": 60,
   "metadata": {},
   "outputs": [
    {
     "data": {
      "text/plain": [
       "[<matplotlib.lines.Line2D at 0x105e746a0>]"
      ]
     },
     "execution_count": 60,
     "metadata": {},
     "output_type": "execute_result"
    },
    {
     "data": {
      "image/png": "[encoded data removed]",
      "text/plain": [
       "<matplotlib.figure.Figure at 0x109a4aba8>"
      ]
     },
     "metadata": {},
     "output_type": "display_data"
    }
   ],
   "source": [
    "plot(x_numbers, y_numbers, marker='o')"
   ]
  },
  {
   "cell_type": "code",
   "execution_count": 61,
   "metadata": {},
   "outputs": [
    {
     "data": {
      "text/plain": [
       "[<matplotlib.lines.Line2D at 0x106514860>]"
      ]
     },
     "execution_count": 61,
     "metadata": {},
     "output_type": "execute_result"
    },
    {
     "data": {
      "image/png": "[encoded data removed]",
      "text/plain": [
       "<matplotlib.figure.Figure at 0x109acfd68>"
      ]
     },
     "metadata": {},
     "output_type": "display_data"
    }
   ],
   "source": [
    "plot(x_numbers, y_numbers, marker='*')"
   ]
  },
  {
   "cell_type": "code",
   "execution_count": 58,
   "metadata": {},
   "outputs": [
    {
     "data": {
      "text/plain": [
       "[<matplotlib.lines.Line2D at 0x1065094e0>]"
      ]
     },
     "execution_count": 58,
     "metadata": {},
     "output_type": "execute_result"
    },
    {
     "data": {
      "image/png": "[encoded data removed]",
      "text/plain": [
       "<matplotlib.figure.Figure at 0x109a33748>"
      ]
     },
     "metadata": {},
     "output_type": "display_data"
    }
   ],
   "source": [
    "plot(x_numbers, y_numbers, marker='x')"
   ]
  },
  {
   "cell_type": "code",
   "execution_count": 59,
   "metadata": {},
   "outputs": [
    {
     "data": {
      "text/plain": [
       "[<matplotlib.lines.Line2D at 0x106f0f668>]"
      ]
     },
     "execution_count": 59,
     "metadata": {},
     "output_type": "execute_result"
    },
    {
     "data": {
      "image/png": "[encoded data removed]",
      "text/plain": [
       "<matplotlib.figure.Figure at 0x1064ee4e0>"
      ]
     },
     "metadata": {},
     "output_type": "display_data"
    }
   ],
   "source": [
    "plot(x_numbers, y_numbers, marker='+')"
   ]
  },
  {
   "cell_type": "code",
   "execution_count": 62,
   "metadata": {},
   "outputs": [
    {
     "data": {
      "text/plain": [
       "[<matplotlib.lines.Line2D at 0x10978c9e8>]"
      ]
     },
     "execution_count": 62,
     "metadata": {},
     "output_type": "execute_result"
    },
    {
     "data": {
      "image/png": "[encoded data removed]",
      "text/plain": [
       "<matplotlib.figure.Figure at 0x10653fcc0>"
      ]
     },
     "metadata": {},
     "output_type": "display_data"
    }
   ],
   "source": [
    "plot(x_numbers, y_numbers, 'o')"
   ]
  },
  {
   "cell_type": "markdown",
   "metadata": {},
   "source": [
    "### 2.3.2 東京の月間平均気温をグラフ化する"
   ]
  },
  {
   "cell_type": "markdown",
   "metadata": {},
   "source": [
    "参考\n",
    "https://weather.time-j.net/climate/chart/tokyo"
   ]
  },
  {
   "cell_type": "code",
   "execution_count": 74,
   "metadata": {},
   "outputs": [],
   "source": [
    "tokyo_temp = [5.2, 5.7, 8.7, 13.9, 18.2, 21.4, 25.0, 26.4, 22.8, 17.5, 12.1, 7.6]"
   ]
  },
  {
   "cell_type": "code",
   "execution_count": 75,
   "metadata": {},
   "outputs": [
    {
     "data": {
      "text/plain": [
       "[<matplotlib.lines.Line2D at 0x109a2e080>]"
      ]
     },
     "execution_count": 75,
     "metadata": {},
     "output_type": "execute_result"
    },
    {
     "data": {
      "image/png": "[encoded data removed]",
      "text/plain": [
       "<matplotlib.figure.Figure at 0x109612c50>"
      ]
     },
     "metadata": {},
     "output_type": "display_data"
    }
   ],
   "source": [
    "plot(tokyo_temp, marker='o')"
   ]
  },
  {
   "cell_type": "code",
   "execution_count": 84,
   "metadata": {},
   "outputs": [],
   "source": [
    "years = range(1,12+1)"
   ]
  },
  {
   "cell_type": "code",
   "execution_count": 85,
   "metadata": {
    "scrolled": true
   },
   "outputs": [
    {
     "data": {
      "text/plain": [
       "[<matplotlib.lines.Line2D at 0x10adfbe48>]"
      ]
     },
     "execution_count": 85,
     "metadata": {},
     "output_type": "execute_result"
    },
    {
     "data": {
      "image/png": "[encoded data removed]",
      "text/plain": [
       "<matplotlib.figure.Figure at 0x10a8cb6d8>"
      ]
     },
     "metadata": {},
     "output_type": "display_data"
    }
   ],
   "source": [
    "plot(years, tokyo_temp, marker='o')"
   ]
  },
  {
   "cell_type": "markdown",
   "metadata": {},
   "source": [
    "### 2.3.3 東京の月間気温傾向を比較する"
   ]
  },
  {
   "cell_type": "code",
   "execution_count": 91,
   "metadata": {},
   "outputs": [],
   "source": [
    "tokyo_temp_2000 =[7.6,6.0,9.4,14.5,19.8,22.5,27.7,28.3,25.6,18.8,13.3,8.8]\n",
    "tokyo_temp_2010 =[7.0,6.5,9.1,12.4,19.0,23.6,28.0,29.6,25.1,18.9,13.5,9.9]\n",
    "tokyo_temp_2017 =[5.8,6.9,8.5,14.7,20.0,22.0,27.3,26.4,22.8,16.8,11.9,6.6]\n",
    "months = range(1, 12+1)"
   ]
  },
  {
   "cell_type": "code",
   "execution_count": 94,
   "metadata": {},
   "outputs": [
    {
     "data": {
      "text/plain": [
       "[<matplotlib.lines.Line2D at 0x10a754198>,\n",
       " <matplotlib.lines.Line2D at 0x10a7541d0>,\n",
       " <matplotlib.lines.Line2D at 0x10a754a20>]"
      ]
     },
     "execution_count": 94,
     "metadata": {},
     "output_type": "execute_result"
    },
    {
     "data": {
      "image/png": "[encoded data removed]",
      "text/plain": [
       "<matplotlib.figure.Figure at 0x10a8a4710>"
      ]
     },
     "metadata": {},
     "output_type": "display_data"
    }
   ],
   "source": [
    "plot(months, tokyo_temp_2000,months,tokyo_temp_2010,months,tokyo_temp_2017)"
   ]
  },
  {
   "cell_type": "code",
   "execution_count": 96,
   "metadata": {},
   "outputs": [],
   "source": [
    "from pylab import legend"
   ]
  },
  {
   "cell_type": "code",
   "execution_count": 99,
   "metadata": {},
   "outputs": [
    {
     "data": {
      "text/plain": [
       "<matplotlib.legend.Legend at 0x10aca4908>"
      ]
     },
     "execution_count": 99,
     "metadata": {},
     "output_type": "execute_result"
    },
    {
     "data": {
      "image/png": "[encoded data removed]",
      "text/plain": [
       "<matplotlib.figure.Figure at 0x10a5e75c0>"
      ]
     },
     "metadata": {},
     "output_type": "display_data"
    }
   ],
   "source": [
    "plot(months, tokyo_temp_2000)\n",
    "plot(months, tokyo_temp_2010)\n",
    "plot(months, tokyo_temp_2017)\n",
    "legend([2000, 2010, 2017])"
   ]
  },
  {
   "cell_type": "markdown",
   "metadata": {},
   "source": [
    "### 2.3.4 グラフのカスタマイズ"
   ]
  },
  {
   "cell_type": "markdown",
   "metadata": {},
   "source": [
    "#### 2.3.4.1 題名と説明ラベルを追加する"
   ]
  },
  {
   "cell_type": "code",
   "execution_count": 122,
   "metadata": {},
   "outputs": [],
   "source": [
    "from pylab import plot, show, title, xlabel, ylabel, legend\n",
    "import matplotlib as mpl\n",
    "mpl.rcParams['font.family'] = 'MS Gothic'"
   ]
  },
  {
   "cell_type": "code",
   "execution_count": 123,
   "metadata": {},
   "outputs": [
    {
     "data": {
      "text/plain": [
       "<matplotlib.legend.Legend at 0x10c045390>"
      ]
     },
     "execution_count": 123,
     "metadata": {},
     "output_type": "execute_result"
    },
    {
     "data": {
      "image/png": "[encoded data removed]",
      "text/plain": [
       "<matplotlib.figure.Figure at 0x10ba1fba8>"
      ]
     },
     "metadata": {},
     "output_type": "display_data"
    }
   ],
   "source": [
    "plot(months, tokyo_temp_2000)\n",
    "plot(months, tokyo_temp_2010)\n",
    "plot(months, tokyo_temp_2017)\n",
    "\n",
    "## タイトル\n",
    "title('東京の月間気温傾向の比較')\n",
    "##title('Average monthly temperature in Tokyo')\n",
    "\n",
    "## X, Yラベル\n",
    "xlabel('月')\n",
    "ylabel('気温')\n",
    "\n",
    "## 凡例\n",
    "legend([2000, 2010, 2017])"
   ]
  },
  {
   "cell_type": "markdown",
   "metadata": {},
   "source": [
    "文字化け対応方法\n",
    "参考ページ：https://openbook4.me/sections/1674"
   ]
  },
  {
   "cell_type": "code",
   "execution_count": 108,
   "metadata": {},
   "outputs": [
    {
     "data": {
      "text/plain": [
       "'/usr/local/Cellar/python3/3.6.4_2/Frameworks/Python.framework/Versions/3.6/lib/python3.6/site-packages/matplotlib/mpl-data/matplotlibrc'"
      ]
     },
     "execution_count": 108,
     "metadata": {},
     "output_type": "execute_result"
    }
   ],
   "source": [
    "import matplotlib\n",
    "matplotlib.matplotlib_fname()"
   ]
  },
  {
   "cell_type": "code",
   "execution_count": 112,
   "metadata": {},
   "outputs": [
    {
     "name": "stdout",
     "output_type": "stream",
     "text": [
      "['/Library/Fonts/Microsoft/Cambria Bold.ttf', '/Library/Fonts/Ayuthaya.ttf', '/System/Library/Fonts/SFNSTextCondensed-Semibold.otf', '/Library/Fonts/Microsoft/Perpetua.ttf', '/Library/Fonts/Microsoft/Arial Italic.ttf', '/Library/Fonts/STIXIntUpDBol.otf', '/Library/Fonts/GraphiteStd-BoldNarrow.otf', '/System/Library/Fonts/SFCompactDisplay-Light.otf', '/Library/Fonts/KozGoPr6N-ExtraLight.otf', '/System/Library/Fonts/SFNSTextCondensed-Bold.otf', '/System/Library/Fonts/SFNSDisplayCondensed-Regular.otf', '/System/Library/Fonts/SFCompactDisplay-Thin.otf', '/Library/Fonts/TektonPro-Obl.otf', '/Library/Fonts/Microsoft/Batang.ttf', '/Library/Fonts/BrushScriptStd.otf', '/Library/Fonts/Mishafi.ttf', '/Library/Fonts/STIXSizFiveSymReg.otf', '/System/Library/Fonts/SFNSDisplayCondensed-Bold.otf', '/Library/Fonts/Microsoft/Perpetua Italic.ttf', '/Library/Fonts/Microsoft/Corbel Italic.ttf', '/usr/X11/lib/X11/fonts/TTF/VeraSe.ttf', '/Library/Fonts/Microsoft/Palatino Linotype Bold Italic.ttf', '/Library/Fonts/Microsoft/Calibri.ttf', '/Library/Fonts/PlantagenetCherokee.ttf', '/Library/Fonts/ACaslonPro-BoldItalic.otf', '/Library/Fonts/GraphiteStd-Bold.otf', '/Library/Fonts/Microsoft/mingliu_hkscs.ttf', '/System/Library/Fonts/SFCompactText-SemiboldItalic.otf', '/System/Library/Fonts/SFCompactText-Heavy.otf', '/Library/Fonts/PrestigeEliteStd.otf', '/Library/Fonts/TektonPro-BoldExt.otf', '/System/Library/Fonts/SFCompactText-Medium.otf', '/usr/X11/lib/X11/fonts/TTF/luxisb.ttf', '/usr/X11/lib/X11/fonts/TTF/VeraBd.ttf', '/Library/Fonts/Microsoft/Calibril.ttf', '/System/Library/Fonts/SFNSDisplayCondensed-Heavy.otf', '/usr/X11/lib/X11/fonts/OTF/SyrCOMUrhoyBold.otf', '/Library/Fonts/TrajanPro-Regular.otf', '/usr/X11/lib/X11/fonts/TTF/luxisr.ttf', '/System/Library/Fonts/SFCompactDisplay-Ultralight.otf', '/Library/Fonts/Impact.ttf', '/Library/Fonts/CourierStd.otf', '/System/Library/Fonts/SFCompactText-BoldItalic.otf', '/usr/X11/lib/X11/fonts/OTF/SyrCOMBatnan.otf', '/System/Library/Fonts/SFCompactDisplay-Heavy.otf', '/Library/Fonts/Microsoft/Gill Sans MT Bold Italic.ttf', '/Library/Fonts/Chalkduster.ttf', '/Library/Fonts/MyriadPro-SemiExt.otf', '/Library/Fonts/STIXSizOneSymReg.otf', '/Library/Fonts/GraphiteStd-LightWide.otf', '/Library/Fonts/Arial Black.ttf', '/Library/Fonts/STIXIntSmReg.otf', '/Library/Fonts/Arial Bold.ttf', '/Library/Fonts/MyriadPro-CondIt.otf', '/Library/Fonts/SanvitoPro-Bold.otf', '/Library/Fonts/AdobeFanHeitiStd-Bold.otf', '/Library/Fonts/GraphiteStd-Regular.otf', '/Library/Fonts/Webdings.ttf', '/Library/Fonts/Microsoft/Marlett.ttf', '/Library/Fonts/Verdana.ttf', '/Library/Fonts/STIXIntUpReg.otf', '/System/Library/Fonts/SFNSDisplay-UltralightItalic.otf', '/Library/Fonts/Microsoft/Gill Sans MT Bold.ttf', '/Library/Fonts/Microsoft/Tw Cen MT Italic.ttf', '/System/Library/Fonts/SFNSDisplay.ttf', '/Library/Fonts/MyriadPro-Bold.otf', '/Library/Fonts/AdobeHebrew-Bold.otf', '/Library/Fonts/Wingdings.ttf', '/System/Library/Fonts/SFNSText.ttf', '/Library/Fonts/Bodoni 72 Smallcaps Book.ttf', '/System/Library/Fonts/SFCompactText-MediumItalic.otf', '/System/Library/Fonts/SFCompactRounded-Bold.otf', '/Library/Fonts/Courier New.ttf', '/usr/X11/lib/X11/fonts/OTF/SyrCOMAntioch.otf', '/Library/Fonts/MyriadPro-Regular.otf', '/Library/Fonts/TektonPro-Bold.otf', '/Library/Fonts/MyriadPro-BoldSemiCn.otf', '/Library/Fonts/LithosPro-Regular.otf', '/Library/Fonts/ACaslonPro-Bold.otf', '/System/Library/Fonts/SFCompactText-Bold.otf', '/System/Library/Fonts/Apple Braille Pinpoint 8 Dot.ttf', '/Library/Fonts/Tahoma Bold.ttf', '/usr/X11/lib/X11/fonts/OTF/SyrCOMJerusalemOutline.otf', '/Library/Fonts/Trebuchet MS Italic.ttf', '/Library/Fonts/StencilStd.otf', '/Library/Fonts/STIXNonUniBol.otf', '/usr/X11/lib/X11/fonts/OTF/SyrCOMNisibinOutline.otf', '/Library/Fonts/Microsoft/Calibri Bold Italic.ttf', '/Library/Fonts/MyriadPro-BoldSemiCnIt.otf', '/Library/Fonts/Verdana Bold Italic.ttf', '/usr/local/share/fonts/RictyDiscord-Bold.ttf', '/Library/Fonts/Silom.ttf', '/Library/Fonts/MyriadPro-SemiCn.otf', '/Library/Fonts/MyriadPro-SemiboldCondIt.otf', '/Library/Fonts/Bodoni Ornaments.ttf', '/System/Library/Fonts/SFNSDisplay-HeavyItalic.otf', '/System/Library/Fonts/Apple Braille Outline 8 Dot.ttf', '/System/Library/Fonts/SFCompactRounded-Heavy.otf', '/Library/Fonts/Georgia.ttf', '/Library/Fonts/PostinoStd.otf', '/Library/Fonts/Microsoft/Perpetua Bold Italic.ttf', '/Library/Fonts/MyriadPro-LightSemiExtIt.otf', '/Library/Fonts/Microsoft/Times New Roman Bold.ttf', '/Library/Fonts/Trattatello.ttf', '/Library/Fonts/Luminari.ttf', '/Library/Fonts/AdobePiStd.otf', '/Library/Fonts/Microsoft/Consolas Italic.ttf', '/Library/Fonts/GraphiteStd-Wide.otf', '/System/Library/Fonts/Symbol.ttf', '/usr/X11/lib/X11/fonts/TTF/luxirb.ttf', '/Library/Fonts/STIXIntUpSmReg.otf', '/Library/Fonts/Microsoft/Lucida Console.ttf', '/Library/Fonts/Microsoft/MS PMincho.ttf', '/usr/X11/lib/X11/fonts/TTF/VeraIt.ttf', '/Library/Fonts/Arial Italic.ttf', '/Library/Fonts/Arial Unicode.ttf', '/Library/Fonts/Microsoft/Constantia.ttf', '/Library/Fonts/Apple Chancery.ttf', '/Library/Fonts/MyriadPro-BoldCondIt.otf', '/Library/Fonts/NuevaStd-Bold.otf', '/Library/Fonts/Arial Narrow Bold.ttf', '/System/Library/Fonts/SFNSDisplay-MediumItalic.otf', '/Library/Fonts/Microsoft/Corbel Bold Italic.ttf', '/System/Library/Fonts/SFCompactText-Regular.otf', '/Library/Fonts/BirchStd.otf', '/System/Library/Fonts/SFNSDisplayCondensed-Medium.otf', '/Library/Fonts/TrajanPro-Bold.otf', '/Library/Fonts/Krungthep.ttf', '/Library/Fonts/ChaparralPro-Italic.otf', '/Library/Fonts/STIXNonUniBolIta.otf', '/Library/Fonts/BickhamScriptPro-Regular.otf', '/Library/Fonts/TektonPro-Regular.otf', '/Library/Fonts/ACaslonPro-Regular.otf', '/Library/Fonts/KozMinPr6N-Bold.otf', '/Library/Fonts/Microsoft/Meiryo Bold Italic.ttf', '/Library/Fonts/Microsoft/Wingdings.ttf', '/Library/Fonts/Microsoft/MS Mincho.ttf', '/usr/local/share/fonts/Ricty-Regular.ttf', '/Library/Fonts/NuevaStd-CondItalic.otf', '/Library/Fonts/Microsoft/MingLiU_HKSCS-ExtB.ttf', '/Library/Fonts/Microsoft/Bookshelf Symbol 7.ttf', '/Library/Fonts/Microsoft/Wingdings 2.ttf', '/Library/Fonts/KozGoPr6N-Bold.otf', '/Library/Fonts/GraphiteStd-BoldWide.otf', '/Library/Fonts/CaflischScriptPro-Bold.otf', '/Library/Fonts/MinionPro-Medium.otf', '/usr/X11/lib/X11/fonts/TTF/luximbi.ttf', '/Library/Fonts/TektonPro-BoldObl.otf', '/Library/Fonts/KozGoPr6N-Light.otf', '/Library/Fonts/OratorStd-Slanted.otf', '/Library/Fonts/HoboStd.otf', '/Library/Fonts/GraphiteStd-Narrow.otf', '/Library/Fonts/Microsoft/Calibri Bold.ttf', '/usr/X11/lib/X11/fonts/TTF/VeraBI.ttf', '/Library/Fonts/MyriadPro-SemiboldSemiCn.otf', '/Library/Fonts/Microsoft/Calibri Italic.ttf', '/usr/X11/lib/X11/fonts/TTF/VeraMoIt.ttf', '/Library/Fonts/MyriadPro-SemiExtIt.otf', '/System/Library/Fonts/SFNSDisplayCondensed-Semibold.otf', '/usr/X11/lib/X11/fonts/TTF/luxisbi.ttf', '/Library/Fonts/Microsoft/Palatino Linotype Italic.ttf', '/Library/Fonts/AdobeHeitiStd-Regular.otf', '/usr/X11/lib/X11/fonts/OTF/SyrCOMQenNeshrin.otf', '/System/Library/Fonts/SFNSTextCondensed-Light.otf', '/Library/Fonts/Courier New Bold.ttf', '/Library/Fonts/Microsoft/taile.ttf', '/Library/Fonts/MyriadPro-SemiboldIt.otf', '/Library/Fonts/AdobeHebrew-Italic.otf', '/Library/Fonts/Kokonor.ttf', '/Library/Fonts/Microsoft/PMingLiU.ttf', '/Library/Fonts/NuevaStd-BoldCondItalic.otf', '/System/Library/Fonts/ZapfDingbats.ttf', '/usr/X11/lib/X11/fonts/TTF/luxirri.ttf', '/System/Library/Fonts/SFNSTextItalic.ttf', '/Library/Fonts/Tahoma.ttf', '/usr/X11/lib/X11/fonts/OTF/SyrCOMJerusalemBold.otf', '/Library/Fonts/AdobeArabic-Italic.otf', '/usr/X11/lib/X11/fonts/OTF/SyrCOMAdiabene.otf', '/Library/Fonts/CourierStd-Oblique.otf', '/System/Library/Fonts/SFCompactText-HeavyItalic.otf', '/usr/X11/lib/X11/fonts/OTF/SyrCOMEdessa.otf', '/Library/Fonts/PoplarStd.otf', '/Library/Fonts/MesquiteStd.otf', '/Library/Fonts/GiddyupStd.otf', '/System/Library/Fonts/SFCompactRounded-Regular.otf', '/Library/Fonts/Microsoft/Tw Cen MT.ttf', '/Library/Fonts/Arial Bold Italic.ttf', '/usr/X11/lib/X11/fonts/TTF/luximr.ttf', '/System/Library/Fonts/SFNSDisplay-LightItalic.otf', '/Library/Fonts/CharlemagneStd-Regular.otf', '/Library/Fonts/TektonPro-BoldCond.otf', '/usr/X11/lib/X11/fonts/TTF/VeraMono.ttf', '/Library/Fonts/Microsoft/Constantia Bold Italic.ttf', '/usr/X11/lib/X11/fonts/TTF/luxirbi.ttf', '/usr/X11/lib/X11/fonts/OTF/SyrCOMKharput.otf', '/System/Library/Fonts/SFNSTextCondensed-Medium.otf', '/Library/Fonts/STIXIntSmBol.otf', '/Library/Fonts/STIXSizOneSymBol.otf', '/Library/Fonts/STIXGeneralBolIta.otf', '/Library/Fonts/Arial Rounded Bold.ttf', '/Library/Fonts/Microsoft/Verdana Italic.ttf', '/Library/Fonts/Diwan Thuluth.ttf', '/Library/Fonts/AGaramondPro-Bold.otf', '/Library/Fonts/Microsoft/SimHei.ttf', '/Library/Fonts/Microsoft/Times New Roman.ttf', '/usr/X11/lib/X11/fonts/TTF/luxisri.ttf', '/Library/Fonts/Microsoft/Palatino Linotype Bold.ttf', '/System/Library/Fonts/SFCompactRounded-Medium.otf', '/Library/Fonts/KozMinPr6N-ExtraLight.otf', '/Library/Fonts/Microsoft/MS PGothic.ttf', '/System/Library/Fonts/SFCompactDisplay-Bold.otf', '/Library/Fonts/Microsoft/himalaya.ttf', '/Library/Fonts/NuevaStd-BoldCond.otf', '/usr/X11/lib/X11/fonts/OTF/SyrCOMCtesiphon.otf', '/Library/Fonts/STIXSizTwoSymReg.otf', '/usr/X11/lib/X11/fonts/OTF/SyrCOMJerusalemItalic.otf', '/Library/Fonts/STIXIntUpBol.otf', '/Library/Fonts/Microsoft/msyi.ttf', '/Library/Fonts/AdobeMingStd-Light.otf', '/usr/X11/lib/X11/fonts/TTF/VeraMoBd.ttf', '/Library/Fonts/Microsoft/MS Gothic.ttf', '/Library/Fonts/Microsoft/Gulim.ttf', '/Library/Fonts/MyriadPro-LightCond.otf', '/Library/Fonts/Arial Narrow.ttf', '/Library/Fonts/PrestigeEliteStd-Slanted.otf', '/Library/Fonts/CourierStd-BoldOblique.otf', '/Library/Fonts/Wingdings 3.ttf', '/usr/X11/lib/X11/fonts/TTF/Vera.ttf', '/Library/Fonts/Microsoft/MS Reference Specialty.ttf', '/Library/Fonts/MyriadPro-LightSemiCnIt.otf', '/Library/Fonts/SanvitoPro-Regular.otf', '/System/Library/Fonts/SFNSDisplayCondensed-Ultralight.otf', '/usr/X11/lib/X11/fonts/OTF/SyrCOMUrhoy.otf', '/Library/Fonts/Microsoft/Franklin Gothic Book Italic.ttf', '/Library/Fonts/STIXSizThreeSymReg.otf', '/Library/Fonts/OratorStd.otf', '/Library/Fonts/BigCaslon.ttf', '/usr/X11/lib/X11/fonts/TTF/VeraMoBI.ttf', '/Library/Fonts/STIXIntDBol.otf', '/Library/Fonts/DIN Condensed Bold.ttf', '/usr/local/share/fonts/Ricty-Bold.ttf', '/Library/Fonts/AdobeThai-Bold.otf', '/Library/Fonts/MyriadWebPro-Italic.ttf', '/Library/Fonts/Microsoft/Times New Roman Italic.ttf', '/System/Library/Fonts/Apple Braille Outline 6 Dot.ttf', '/Library/Fonts/Microsoft/TaiLeb.ttf', '/usr/X11/lib/X11/fonts/OTF/SyrCOMNisibin.otf', '/Library/Fonts/Microsoft/Verdana Bold Italic.ttf', '/Library/Fonts/Microsoft Sans Serif.ttf', '/System/Library/Fonts/SFNSDisplayCondensed-Thin.otf', '/Library/Fonts/STIXIntDReg.otf', '/Library/Fonts/Comic Sans MS Bold.ttf', '/Library/Fonts/KozMinPr6N-Medium.otf', '/System/Library/Fonts/Apple Braille.ttf', '/Library/Fonts/Microsoft/Gill Sans MT.ttf', '/System/Library/Fonts/SFNSDisplay-RegularItalic.otf', '/Library/Fonts/STIXVar.otf', '/Library/Fonts/STIXSizFourSymBol.otf', '/Library/Fonts/Microsoft/Tw Cen MT Bold.ttf', '/usr/local/share/fonts/RictyDiscord-Regular.ttf', '/Library/Fonts/Microsoft/Meiryo Italic.ttf', '/usr/X11/lib/X11/fonts/OTF/GohaTibebZemen.otf', '/Library/Fonts/Microsoft/Cambria Math.ttf', '/Library/Fonts/STIXNonUniIta.otf', '/Users/dmiura/Library/Fonts/Ricty-Bold.ttf', '/Library/Fonts/MinionPro-MediumIt.otf', '/Library/Fonts/MyriadPro-It.otf', '/Library/Fonts/AppleGothic.ttf', '/Library/Fonts/AppleMyungjo.ttf', '/System/Library/Fonts/SFCompactRounded-Ultralight.otf', '/usr/X11/lib/X11/fonts/OTF/SyrCOMJerusalem.otf', '/Library/Fonts/Microsoft/Consolas.ttf', '/Library/Fonts/PrestigeEliteStd-BdSlanted.otf', '/Library/Fonts/MinionPro-It.otf', '/Library/Fonts/Microsoft/Wingdings 3.ttf', '/Library/Fonts/STIXIntUpDReg.otf', '/Library/Fonts/Microsoft/Candara Bold Italic.ttf', '/Library/Fonts/NISC18030.ttf', '/Library/Fonts/Arial Narrow Italic.ttf', '/Library/Fonts/Microsoft/Constantia Italic.ttf', '/Library/Fonts/Microsoft/Franklin Gothic Medium Italic.ttf', '/Library/Fonts/Microsoft/Gill Sans MT Italic.ttf', '/Library/Fonts/SanvitoPro-Semibold.otf', '/Library/Fonts/AdobeThai-BoldItalic.otf', '/Library/Fonts/MyriadPro-BoldIt.otf', '/Library/Fonts/MinionPro-BoldIt.otf', '/Library/Fonts/Microsoft/Cambria Bold Italic.ttf', '/Library/Fonts/STIXSizTwoSymBol.otf', '/Library/Fonts/Times New Roman Bold.ttf', '/Library/Fonts/Hoefler Text Ornaments.ttf', '/Library/Fonts/Microsoft/monbaiti.ttf', '/Library/Fonts/Microsoft/Arial Bold.ttf', '/Library/Fonts/Comic Sans MS.ttf', '/Library/Fonts/Microsoft/MingLiU-ExtB.ttf', '/Library/Fonts/CooperBlackStd.otf', '/Library/Fonts/Microsoft/Consolas Bold.ttf', '/Library/Fonts/AdobeHebrew-BoldItalic.otf', '/Library/Fonts/MyriadPro-Light.otf', '/Library/Fonts/MyriadWebPro-CondensedIt.ttf', '/Library/Fonts/Microsoft/Lucida Sans Unicode.ttf', '/System/Library/Fonts/SFNSTextCondensed-Heavy.otf', '/Library/Fonts/MyriadPro-SemiboldSemiExtIt.otf', '/Library/Fonts/Trebuchet MS.ttf', '/Library/Fonts/Microsoft/MS Reference Sans Serif.ttf', '/Library/Fonts/Microsoft/Cambria Italic.ttf', '/Library/Fonts/STIXGeneral.otf', '/Library/Fonts/ChaparralPro-Bold.otf', '/Library/Fonts/BlackoakStd.otf', '/Library/Fonts/STIXGeneralBol.otf', '/System/Library/Fonts/SFCompactText-Semibold.otf', '/Library/Fonts/AdobeHebrew-Regular.otf', '/Library/Fonts/Microsoft/Arial Bold Italic.ttf', '/Library/Fonts/BickhamScriptPro-Bold.otf', '/Library/Fonts/Microsoft/Times New Roman Bold Italic.ttf', '/usr/X11/lib/X11/fonts/OTF/SyrCOMMardin.otf', '/System/Library/Fonts/LastResort.otf', '/Library/Fonts/Microsoft/MingLiU.ttf', '/Library/Fonts/Microsoft/Cambria.ttf', '/Library/Fonts/Microsoft/Arial.ttf', '/Library/Fonts/Zapfino.ttf', '/Library/Fonts/Microsoft/PMingLiU-ExtB.ttf', '/Library/Fonts/MinionPro-BoldCnIt.otf', '/Library/Fonts/Microsoft/Perpetua Bold.ttf', '/Library/Fonts/AdobeThai-Italic.otf', '/Library/Fonts/STIXIntUpSmBol.otf', '/System/Library/Fonts/SFNSDisplay-BlackItalic.otf', '/Library/Fonts/Georgia Bold Italic.ttf', '/System/Library/Fonts/SFCompactDisplay-Semibold.otf', '/usr/X11/lib/X11/fonts/OTF/SyrCOMTalada.otf', '/Library/Fonts/Andale Mono.ttf', '/Library/Fonts/MyriadPro-Semibold.otf', '/System/Library/Fonts/SFCompactText-Light.otf', '/Library/Fonts/Microsoft/Meiryo.ttf', '/Library/Fonts/AdobeSongStd-Light.otf', '/Library/Fonts/Microsoft/SimSun-ExtB.ttf', '/Library/Fonts/MyriadPro-LightSemiCn.otf', '/Library/Fonts/NuevaStd-Italic.otf', '/Library/Fonts/NuevaStd-BoldItalic.otf', '/Library/Fonts/AdobeArabic-BoldItalic.otf', '/Library/Fonts/Courier New Bold Italic.ttf', '/Library/Fonts/ChaparralPro-Regular.otf', '/System/Library/Fonts/SFNSSymbols-Regular.otf', '/Library/Fonts/Brush Script.ttf', '/Library/Fonts/PostinoStd-Italic.otf', '/Library/Fonts/Microsoft/Verdana Bold.ttf', '/System/Library/Fonts/SFNSDisplay-SemiboldItalic.otf', '/Library/Fonts/STIXSizThreeSymBol.otf', '/Library/Fonts/Mishafi Gold.ttf', '/usr/X11/lib/X11/fonts/OTF/SyrCOMMalankara.otf', '/Library/Fonts/Arial Narrow Bold Italic.ttf', '/usr/X11/lib/X11/fonts/OTF/SyrCOMTurAbdin.otf', '/Library/Fonts/Times New Roman Bold Italic.ttf', '/System/Library/Fonts/SFNSDisplayCondensed-Light.otf', '/Library/Fonts/Wingdings 2.ttf', '/Library/Fonts/MyriadPro-BoldSemiExtIt.otf', '/usr/X11/lib/X11/fonts/TTF/luximri.ttf', '/Library/Fonts/AdobeMyungjoStd-Medium.otf', '/Library/Fonts/CaflischScriptPro-Regular.otf', '/Library/Fonts/Lao Sangam MN.ttf', '/Library/Fonts/Microsoft/Constantia Bold.ttf', '/Library/Fonts/Microsoft/Corbel.ttf', '/System/Library/Fonts/SFNSTextCondensed-Regular.otf', '/Library/Fonts/MyriadPro-LightCondIt.otf', '/Library/Fonts/Bradley Hand Bold.ttf', '/System/Library/Fonts/SFCompactText-RegularItalic.otf', '/Library/Fonts/Microsoft/Gabriola.ttf', '/Library/Fonts/MyriadPro-SemiboldSemiExt.otf', '/Library/Fonts/Microsoft/Candara Bold.ttf', '/Library/Fonts/Herculanum.ttf', '/Library/Fonts/Microsoft/Brush Script.ttf', '/Library/Fonts/MyriadPro-BoldSemiExt.otf', '/Library/Fonts/MyriadWebPro.ttf', '/Users/dmiura/Library/Fonts/RictyDiscord-Bold.ttf', '/Library/Fonts/Microsoft/Consolas Bold Italic.ttf', '/Library/Fonts/SanvitoPro-Lt.otf', '/Library/Fonts/Microsoft/Franklin Gothic Book.ttf', '/Library/Fonts/Times New Roman Italic.ttf', '/Library/Fonts/KozGoPr6N-Regular.otf', '/System/Library/Fonts/SFCompactRounded-Light.otf', '/Library/Fonts/KozGoPr6N-Heavy.otf', '/usr/X11/lib/X11/fonts/TTF/luxirr.ttf', '/Library/Fonts/CharlemagneStd-Bold.otf', '/System/Library/Fonts/SFCompactDisplay-Regular.otf', '/Library/Fonts/MinionPro-Regular.otf', '/Library/Fonts/CaflischScriptPro-Light.otf', '/usr/X11/lib/X11/fonts/TTF/luximb.ttf', '/usr/X11/lib/X11/fonts/OTF/SyrCOMBatnanBold.otf', '/System/Library/Fonts/SFNSDisplay-BoldItalic.otf', '/Library/Fonts/MinionPro-BoldCn.otf', '/Library/Fonts/Sathu.ttf', '/Library/Fonts/Microsoft/Palatino Linotype.ttf', '/System/Library/Fonts/SFNSDisplayCondensed-Black.otf', '/Library/Fonts/Gurmukhi.ttf', '/Library/Fonts/Verdana Bold.ttf', '/Library/Fonts/NuevaStd-Regular.otf', '/Library/Fonts/Khmer Sangam MN.ttf', '/usr/X11/lib/X11/fonts/OTF/SyrCOMMidyat.otf', '/Library/Fonts/AGaramondPro-BoldItalic.otf', '/System/Library/Fonts/Apple Braille Pinpoint 6 Dot.ttf', '/System/Library/Fonts/SFCompactDisplay-Medium.otf', '/usr/X11/lib/X11/fonts/TTF/GohaTibebZemen.ttf', '/Users/dmiura/Library/Fonts/RictyDiscord-Regular.ttf', '/System/Library/Fonts/SFCompactRounded-Thin.otf', '/Library/Fonts/Microsoft/HGRSMP.TTF', '/Library/Fonts/Trebuchet MS Bold.ttf', '/Library/Fonts/DIN Alternate Bold.ttf', '/Library/Fonts/LithosPro-Black.otf', '/System/Library/Fonts/SFNSDisplay-ThinItalic.otf', '/Library/Fonts/ACaslonPro-Italic.otf', '/Library/Fonts/Farisi.ttf', '/Library/Fonts/MyriadPro-SemiboldSemiCnIt.otf', '/Library/Fonts/MyriadPro-Cond.otf', '/Library/Fonts/Microsoft/Verdana.ttf', '/Library/Fonts/AdobeThai-Regular.otf', '/Library/Fonts/Georgia Italic.ttf', '/Library/Fonts/AdobeArabic-Bold.otf', '/Library/Fonts/Microsoft/SimSun.ttf', '/Library/Fonts/Verdana Italic.ttf', '/Users/dmiura/Library/Fonts/Ricty-Regular.ttf', '/Library/Fonts/Arial.ttf', '/Library/Fonts/AGaramondPro-Regular.otf', '/System/Library/Fonts/SFCompactRounded-Semibold.otf', '/Library/Fonts/KozGoPr6N-Medium.otf', '/Library/Fonts/PrestigeEliteStd-Bd.otf', '/Library/Fonts/STIXVarBol.otf', '/Library/Fonts/MyriadPro-LightIt.otf', '/usr/X11/lib/X11/fonts/TTF/VeraSeBd.ttf', '/Library/Fonts/KozMinPr6N-Heavy.otf', '/Library/Fonts/Microsoft/Corbel Bold.ttf', '/Library/Fonts/Georgia Bold.ttf', '/Library/Fonts/Trebuchet MS Bold Italic.ttf', '/Library/Fonts/CourierStd-Bold.otf', '/Library/Fonts/KozMinPr6N-Regular.otf', '/System/Library/Fonts/SFCompactDisplay-Black.otf', '/Library/Fonts/Microsoft/Candara Italic.ttf', '/Library/Fonts/MyriadPro-BoldCond.otf', '/usr/X11/lib/X11/fonts/OTF/SyrCOMMardinBold.otf', '/Library/Fonts/CooperBlackStd-Italic.otf', '/Library/Fonts/AdobeGothicStd-Bold.otf', '/Library/Fonts/Microsoft/Tw Cen MT Bold Italic.ttf', '/System/Library/Fonts/Apple Symbols.ttf', '/Library/Fonts/MinionPro-Bold.otf', '/Library/Fonts/RosewoodStd-Regular.otf', '/Library/Fonts/Skia.ttf', '/Library/Fonts/MyriadPro-SemiCnIt.otf', '/Library/Fonts/STIXNonUni.otf', '/Library/Fonts/NuevaStd-Cond.otf', '/Library/Fonts/KozMinPr6N-Light.otf', '/Library/Fonts/Microsoft/Franklin Gothic Medium.ttf', '/Library/Fonts/STIXSizFourSymReg.otf', '/Library/Fonts/Microsoft/Meiryo Bold.ttf', '/Library/Fonts/AdobeArabic-Regular.otf', '/Library/Fonts/MyriadPro-SemiboldCond.otf', '/Library/Fonts/MyriadWebPro-Bold.ttf', '/System/Library/Fonts/Keyboard.ttf', '/Library/Fonts/Times New Roman.ttf', '/Library/Fonts/MyriadPro-LightSemiExt.otf', '/System/Library/Fonts/SFCompactText-LightItalic.otf', '/Library/Fonts/AGaramondPro-Italic.otf', '/Library/Fonts/OCRAStd.otf', '/Library/Fonts/STIXGeneralItalic.otf', '/Library/Fonts/Courier New Italic.ttf', '/Library/Fonts/Microsoft/Candara.ttf', '/System/Library/Fonts/SFCompactRounded-Black.otf', '/Library/Fonts/MyriadWebPro-Condensed.ttf', '/Library/Fonts/GraphiteStd-Light.otf', '/Library/Fonts/GraphiteStd-LightNarrow.otf']\n"
     ]
    }
   ],
   "source": [
    "import matplotlib.font_manager\n",
    "print(matplotlib.font_manager.findSystemFonts(fontpaths=None, fontext='ttf'))"
   ]
  },
  {
   "cell_type": "markdown",
   "metadata": {},
   "source": [
    "#### 2.3.4.2 軸のカスタマイズ"
   ]
  },
  {
   "cell_type": "code",
   "execution_count": 129,
   "metadata": {},
   "outputs": [],
   "source": [
    "from pylab import plot, show, title, xlabel, ylabel, legend\n",
    "from pylab import axis\n",
    "import matplotlib as mpl\n",
    "mpl.rcParams['font.family'] = 'MS Gothic'"
   ]
  },
  {
   "cell_type": "code",
   "execution_count": 125,
   "metadata": {},
   "outputs": [],
   "source": [
    "tokyo_temp_2017 =[5.8,6.9,8.5,14.7,20.0,22.0,27.3,26.4,22.8,16.8,11.9,6.6]"
   ]
  },
  {
   "cell_type": "code",
   "execution_count": 140,
   "metadata": {},
   "outputs": [
    {
     "data": {
      "text/plain": [
       "[1, 12, 0, 40]"
      ]
     },
     "execution_count": 140,
     "metadata": {},
     "output_type": "execute_result"
    },
    {
     "data": {
      "image/png": "[encoded data removed]",
      "text/plain": [
       "<matplotlib.figure.Figure at 0x10f4679b0>"
      ]
     },
     "metadata": {},
     "output_type": "display_data"
    }
   ],
   "source": [
    "plot(tokyo_temp_2017, marker='o')\n",
    "## axis(xmin=1)\n",
    "## axis(xmax=12)\n",
    "## axis(ymin=0)\n",
    "## axis(ymax=40)\n",
    "## ↓は↑の省略記法\n",
    "axis([1, 12, 0, 40])"
   ]
  },
  {
   "cell_type": "markdown",
   "metadata": {},
   "source": [
    "#### 2.3.4.3 pyplotを使ってプロットする"
   ]
  },
  {
   "cell_type": "code",
   "execution_count": 141,
   "metadata": {},
   "outputs": [
    {
     "data": {
      "image/png": "[encoded data removed]",
      "text/plain": [
       "<matplotlib.figure.Figure at 0x11005c8d0>"
      ]
     },
     "metadata": {},
     "output_type": "display_data"
    }
   ],
   "source": [
    "'''\n",
    "pyplotを使った簡単なプロット\n",
    "'''\n",
    "import matplotlib as mpl\n",
    "mpl.rcParams['font.family'] = 'MS Gothic'\n",
    "\n",
    "import matplotlib.pyplot\n",
    "\n",
    "def create_graph():\n",
    "    x_numbers=[1,2,3]\n",
    "    y_numbers=[2,4,6]\n",
    "    matplotlib.pyplot.plot(x_numbers, y_numbers)\n",
    "    matplotlib.pyplot.show()\n",
    "    \n",
    "if __name__ == '__main__':\n",
    "    create_graph()\n",
    "\n"
   ]
  },
  {
   "cell_type": "code",
   "execution_count": 142,
   "metadata": {},
   "outputs": [
    {
     "data": {
      "image/png": "[encoded data removed]",
      "text/plain": [
       "<matplotlib.figure.Figure at 0x1100601d0>"
      ]
     },
     "metadata": {},
     "output_type": "display_data"
    }
   ],
   "source": [
    "'''\n",
    "pyplotを使った簡単なプロット(インポート版)\n",
    "'''\n",
    "import matplotlib as mpl\n",
    "mpl.rcParams['font.family'] = 'MS Gothic'\n",
    "\n",
    "import matplotlib.pyplot as plt\n",
    "\n",
    "def create_graph():\n",
    "    x_numbers=[1,2,3]\n",
    "    y_numbers=[2,4,6]\n",
    "    plt.plot(x_numbers, y_numbers)\n",
    "    plt.show()\n",
    "    \n",
    "if __name__ == '__main__':\n",
    "    create_graph()\n",
    "\n"
   ]
  },
  {
   "cell_type": "markdown",
   "metadata": {},
   "source": [
    "### 2.3.5 プロットの保存"
   ]
  },
  {
   "cell_type": "code",
   "execution_count": 143,
   "metadata": {},
   "outputs": [],
   "source": [
    "from pylab import plot, savefig"
   ]
  },
  {
   "cell_type": "code",
   "execution_count": 148,
   "metadata": {},
   "outputs": [
    {
     "data": {
      "image/png": "[encoded data removed]",
      "text/plain": [
       "<matplotlib.figure.Figure at 0x10e35b400>"
      ]
     },
     "metadata": {},
     "output_type": "display_data"
    }
   ],
   "source": [
    "x = [1,2,3]\n",
    "y = [2,4,6]\n",
    "plot(x,y)\n",
    "savefig('mygraph.png') ## 画像として保存する\n",
    "savefig('mygraph.svg')"
   ]
  },
  {
   "cell_type": "code",
   "execution_count": null,
   "metadata": {},
   "outputs": [],
   "source": []
  }
 ],
 "metadata": {
  "kernelspec": {
   "display_name": "Python 3",
   "language": "python",
   "name": "python3"
  },
  "language_info": {
   "codemirror_mode": {
    "name": "ipython",
    "version": 3
   },
   "file_extension": ".py",
   "mimetype": "text/x-python",
   "name": "python",
   "nbconvert_exporter": "python",
   "pygments_lexer": "ipython3",
   "version": "3.6.4"
  }
 },
 "nbformat": 4,
 "nbformat_minor": 2
}
